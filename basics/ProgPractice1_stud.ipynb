{
  "nbformat": 4,
  "nbformat_minor": 0,
  "metadata": {
    "kernelspec": {
      "display_name": "Python 3",
      "language": "python",
      "name": "python3"
    },
    "language_info": {
      "codemirror_mode": {
        "name": "ipython",
        "version": 3
      },
      "file_extension": ".py",
      "mimetype": "text/x-python",
      "name": "python",
      "nbconvert_exporter": "python",
      "pygments_lexer": "ipython3",
      "version": "3.8.5"
    },
    "toc": {
      "base_numbering": 1,
      "nav_menu": {},
      "number_sections": false,
      "sideBar": false,
      "skip_h1_title": false,
      "title_cell": "Table of Contents",
      "title_sidebar": "Contents",
      "toc_cell": false,
      "toc_position": {
        "height": "830.4px",
        "left": "22px",
        "top": "121.6px",
        "width": "409.6px"
      },
      "toc_section_display": true,
      "toc_window_display": true
    },
    "colab": {
      "name": "ProgPractice1-stud.ipynb",
      "provenance": [],
      "collapsed_sections": []
    }
  },
  "cells": [
    {
      "cell_type": "markdown",
      "metadata": {
        "id": "5cr_TSZ01Sj3"
      },
      "source": [
        "# Programming Practice I\n",
        "## 1 Overview\n",
        "In this practice, you can learn the basic knowledge of Python. In particular, by doing this practice, it is expected that you can:\n",
        "* get familiar with the basic syntax of Python;\n",
        "* get the basic idea of NumPy;\n",
        "* get the basic idea of Matplotlib for visualization."
      ]
    },
    {
      "cell_type": "markdown",
      "metadata": {
        "id": "FDFxQu361Sj6"
      },
      "source": [
        "## 2 Tasks\n",
        "In this section, you can start the programming practice task by task. Please pay attention to the hints as well as the API documents online.\n",
        "\n",
        "### 2.1 Import Packages"
      ]
    },
    {
      "cell_type": "code",
      "metadata": {
        "ExecuteTime": {
          "end_time": "2021-03-16T09:28:55.967898Z",
          "start_time": "2021-03-16T09:28:55.647707Z"
        },
        "id": "NvLQufie1Sj6"
      },
      "source": [
        "import numpy as np\n",
        "from matplotlib import pyplot as plt"
      ],
      "execution_count": null,
      "outputs": []
    },
    {
      "cell_type": "markdown",
      "metadata": {
        "id": "7jIdbTJE1Sj7"
      },
      "source": [
        "### 2.2 1D Dataset"
      ]
    },
    {
      "cell_type": "code",
      "metadata": {
        "ExecuteTime": {
          "end_time": "2021-03-16T09:28:55.992192Z",
          "start_time": "2021-03-16T09:28:55.968890Z"
        },
        "id": "PSDbe0Pj1Sj7"
      },
      "source": [
        "X = []\n",
        "Y = []\n",
        "\n",
        "def create_toy_dataset(n_samples=100):\n",
        "  X = np.linspace(-1,1,num=n_samples)\n",
        "  Y = 0.1*X + X**2 + X**3\n",
        "  return X, Y\n",
        "\n",
        "class dataset():\n",
        "  def __init__(self, n):\n",
        "    self.n_samples = n\n",
        "    self.X = []\n",
        "    self.Y = []\n",
        "  def load_data(self):\n",
        "    self.X, self.Y = create_toy_dataset(self.n_samples)\n",
        "    return self.X, self.Y"
      ],
      "execution_count": null,
      "outputs": []
    },
    {
      "cell_type": "markdown",
      "metadata": {
        "id": "zxH4Xot61Sj7"
      },
      "source": [
        "### 2.3 Plot the 1D Dataset"
      ]
    },
    {
      "cell_type": "code",
      "metadata": {
        "ExecuteTime": {
          "end_time": "2021-03-16T09:28:56.117662Z",
          "start_time": "2021-03-16T09:28:55.996143Z"
        },
        "colab": {
          "base_uri": "https://localhost:8080/",
          "height": 320
        },
        "id": "RLmhSI231Sj8",
        "outputId": "73440312-ff07-4dd4-fd81-c25265e443fa"
      },
      "source": [
        "# TODO: plotting\n",
        "plt.figure(figsize=(5,5))\n",
        "my_dataset = dataset(100)\n",
        "my_dataset.load_data()\n",
        "plt.plot(my_dataset.X,my_dataset.Y)\n",
        "plt.xticks(ticks=np.linspace(-1,1,5), labels=np.linspace(-1,1,5))\n",
        "plt.show()"
      ],
      "execution_count": null,
      "outputs": [
        {
          "output_type": "display_data",
          "data": {
            "image/png": "[encoded data removed]",
            "text/plain": [
              "<Figure size 360x360 with 1 Axes>"
            ]
          },
          "metadata": {
            "needs_background": "light"
          }
        }
      ]
    },
    {
      "cell_type": "markdown",
      "metadata": {
        "id": "PYj9C6T91Sj8"
      },
      "source": [
        "### 2.4 2D Dataset"
      ]
    },
    {
      "cell_type": "code",
      "metadata": {
        "ExecuteTime": {
          "end_time": "2021-03-16T09:28:56.123131Z",
          "start_time": "2021-03-16T09:28:56.119151Z"
        },
        "id": "UVax7Bc11Sj8"
      },
      "source": [
        "class dataset2D():\n",
        "  def __init__(self, n):\n",
        "    self.n_samples = n\n",
        "  def load_dataset(self):\n",
        "    X = np.random.normal(0,1,size=(self.n_samples,2))\n",
        "    Y = np.array([not (np.linalg.norm(i,2) < 1 ) for i in X])\n",
        "    return X,Y\n",
        "my_dataset2D = dataset2D(100)\n",
        "X,Y = my_dataset2D.load_dataset()\n"
      ],
      "execution_count": null,
      "outputs": []
    },
    {
      "cell_type": "markdown",
      "metadata": {
        "id": "kWFyk6Bh1Sj9"
      },
      "source": [
        "### 2.5 Plot the 2D Dataset"
      ]
    },
    {
      "cell_type": "code",
      "metadata": {
        "ExecuteTime": {
          "end_time": "2021-03-16T09:28:56.274959Z",
          "start_time": "2021-03-16T09:28:56.124607Z"
        },
        "colab": {
          "base_uri": "https://localhost:8080/",
          "height": 337
        },
        "id": "z--ceO-w1Sj9",
        "outputId": "dbe9dfd4-6d37-433e-a9b4-65b368b9d3d4"
      },
      "source": [
        "# TODO: plotting\n",
        "plt.figure(figsize=(5,5))\n",
        "plt.scatter(X[Y==0,0], X[Y==0,1], marker='o',c='g', label='class 0')\n",
        "plt.scatter(X[Y==1,0],X[Y==1,1],marker='v',c='b',label='class 1')\n",
        "plt.legend()\n",
        "plt.show()\n",
        "Y.shape"
      ],
      "execution_count": null,
      "outputs": [
        {
          "output_type": "display_data",
          "data": {
            "image/png": "[encoded data removed]",
            "text/plain": [
              "<Figure size 360x360 with 1 Axes>"
            ]
          },
          "metadata": {
            "needs_background": "light"
          }
        },
        {
          "output_type": "execute_result",
          "data": {
            "text/plain": [
              "(100,)"
            ]
          },
          "metadata": {},
          "execution_count": 84
        }
      ]
    },
    {
      "cell_type": "markdown",
      "metadata": {
        "ExecuteTime": {
          "end_time": "2021-03-15T16:23:01.361072Z",
          "start_time": "2021-03-15T16:23:01.356636Z"
        },
        "id": "bIMB65Mg1Sj9"
      },
      "source": [
        "### 2.6 A Simple Convolution"
      ]
    },
    {
      "cell_type": "code",
      "metadata": {
        "ExecuteTime": {
          "end_time": "2021-03-16T09:28:56.285370Z",
          "start_time": "2021-03-16T09:28:56.276421Z"
        },
        "id": "MD0Xp_9l1Sj9",
        "colab": {
          "base_uri": "https://localhost:8080/"
        },
        "outputId": "64f61816-92e5-4336-94b9-4e3cf96c826d"
      },
      "source": [
        "# TODO: simple convolution\n",
        "X = np.linspace(0,15, num = 16).reshape(4,-1)\n",
        "W = np.ones((2,2))\n",
        "X_conv = np.zeros((3,3)) #this is the output of the convolution \n",
        "print(X)\n",
        "\n",
        "# W single kernel, p = 0, s = 1, d = 1.\n",
        "def convolve(X, W, p = 0, s = 1, dilation = 1):\n",
        "  X_height,X_width = X.shape\n",
        "  k_height,k_width = W.shape\n",
        "  X_conv_height = np.floor(X_height + 2*p - (k_height - 1) * dilation - 1) + 1\n",
        "  X_conv_width  = np.floor(X_width + 2*p - (k_width - 1) * dilation - 1) + 1\n",
        "  X_conv = np.zeros((int(X_conv_height), int(X_conv_width)))\n",
        "  for i in range(X_conv.shape[0]):\n",
        "     for j in range(X_conv.shape[1]):\n",
        "      X_conv[i,j] = np.sum(X[i:i+W.shape[0], j:j+W.shape[1]] * W)\n",
        "  return X_conv\n",
        "\n",
        "print(convolve(X,W))"
      ],
      "execution_count": null,
      "outputs": [
        {
          "output_type": "stream",
          "name": "stdout",
          "text": [
            "[[ 0.  1.  2.  3.]\n",
            " [ 4.  5.  6.  7.]\n",
            " [ 8.  9. 10. 11.]\n",
            " [12. 13. 14. 15.]]\n",
            "[[10. 14. 18.]\n",
            " [26. 30. 34.]\n",
            " [42. 46. 50.]]\n"
          ]
        }
      ]
    },
    {
      "cell_type": "code",
      "metadata": {
        "colab": {
          "base_uri": "https://localhost:8080/"
        },
        "id": "TFC_OsdB2b81",
        "outputId": "6b2210ed-123c-475a-88c0-32abc6d0eef2"
      },
      "source": [
        "def prepare_W(W_conv,k_height, k_width):\n",
        "  for row in range(W_conv.shape[0]):\n",
        "    for W_row in range(k_height):\n",
        "      col = int(W_row*2*k_width+row)\n",
        "      offset = (row+1)//4\n",
        "      col += offset\n",
        "      W_conv[row][col : col+k_width]= W[W_row,:]\n",
        "  return W_conv\n",
        "\n",
        "W_conv = np.zeros((9,16))\n",
        "prepare_W(W_conv,2,2)"
      ],
      "execution_count": null,
      "outputs": [
        {
          "output_type": "execute_result",
          "data": {
            "text/plain": [
              "array([[1., 1., 0., 0., 1., 1., 0., 0., 0., 0., 0., 0., 0., 0., 0., 0.],\n",
              "       [0., 1., 1., 0., 0., 1., 1., 0., 0., 0., 0., 0., 0., 0., 0., 0.],\n",
              "       [0., 0., 1., 1., 0., 0., 1., 1., 0., 0., 0., 0., 0., 0., 0., 0.],\n",
              "       [0., 0., 0., 0., 1., 1., 0., 0., 1., 1., 0., 0., 0., 0., 0., 0.],\n",
              "       [0., 0., 0., 0., 0., 1., 1., 0., 0., 1., 1., 0., 0., 0., 0., 0.],\n",
              "       [0., 0., 0., 0., 0., 0., 1., 1., 0., 0., 1., 1., 0., 0., 0., 0.],\n",
              "       [0., 0., 0., 0., 0., 0., 0., 1., 1., 0., 0., 1., 1., 0., 0., 0.],\n",
              "       [0., 0., 0., 0., 0., 0., 0., 0., 0., 1., 1., 0., 0., 1., 1., 0.],\n",
              "       [0., 0., 0., 0., 0., 0., 0., 0., 0., 0., 1., 1., 0., 0., 1., 1.]])"
            ]
          },
          "metadata": {},
          "execution_count": 86
        }
      ]
    },
    {
      "cell_type": "code",
      "metadata": {
        "colab": {
          "base_uri": "https://localhost:8080/"
        },
        "id": "Z7MjPUEDrMes",
        "outputId": "4800043c-480f-442e-d607-3f42c5c18c4e"
      },
      "source": [
        "# X_conv = W_conv @ X_\n",
        "def faster_convolve(X, W, p = 0, s = 1):\n",
        "  dilation = 1\n",
        "  X_height,X_width = X.shape\n",
        "  k_height,k_width = W.shape\n",
        "  X_conv_height = np.floor(X_height + 2*p - (k_height - 1) * dilation - 1) + 1\n",
        "  X_conv_width  = np.floor(X_width + 2*p - (k_width - 1) * dilation - 1) + 1\n",
        "  X_conv = np.zeros((int(X_conv_height * X_conv_width), 1))\n",
        "  X_flatten = X.flatten(order='C')\n",
        "  \n",
        "  W_conv = np.zeros((X_conv.shape[0], X_flatten.shape[0]))\n",
        "  W_conv = prepare_W(W_conv,k_height, k_width)\n",
        "  X_conv = W_conv @ X_flatten\n",
        "  X_conv = X_conv.reshape(3,3)\n",
        "  return X_conv\n",
        "\n",
        "faster_convolve(X,W)"
      ],
      "execution_count": null,
      "outputs": [
        {
          "output_type": "execute_result",
          "data": {
            "text/plain": [
              "array([[10., 14., 18.],\n",
              "       [26., 30., 34.],\n",
              "       [38., 46., 50.]])"
            ]
          },
          "metadata": {},
          "execution_count": 87
        }
      ]
    },
    {
      "cell_type": "code",
      "metadata": {
        "colab": {
          "base_uri": "https://localhost:8080/"
        },
        "id": "PygEuvamveYs",
        "outputId": "4da5f430-d2b4-474f-eb07-ee4cfe46540a"
      },
      "source": [
        "import time\n",
        "\n",
        "start = time.time()\n",
        "for i in range(int(1e6)):\n",
        "  convolve(X,W)\n",
        "end = time.time()\n",
        "print(f'range based convolution cost {end - start}') # with TPU 82s, CPU 78s\n",
        "print(convolve(X,W))\n",
        "\n",
        "start = time.time()\n",
        "for i in range(int(1e6)):\n",
        "  faster_convolve(X,W)\n",
        "end = time.time()\n",
        "print(f'matrix based convolution cost {end-start}') # with TPU 38s, CPU 42s\n",
        "print(faster_convolve(X,W))"
      ],
      "execution_count": null,
      "outputs": [
        {
          "output_type": "stream",
          "name": "stdout",
          "text": [
            "range based convolution cost 79.00616025924683\n",
            "[[10. 14. 18.]\n",
            " [26. 30. 34.]\n",
            " [42. 46. 50.]]\n",
            "matrix based convolution cost 42.152852058410645\n",
            "[[10. 14. 18.]\n",
            " [26. 30. 34.]\n",
            " [38. 46. 50.]]\n"
          ]
        }
      ]
    },
    {
      "cell_type": "markdown",
      "metadata": {
        "id": "D75JqU_l1Sj-"
      },
      "source": [
        "### KL divergence of Gaussian and Laplace\n"
      ]
    },
    {
      "cell_type": "code",
      "metadata": {
        "id": "ToQkqcey5Us-"
      },
      "source": [
        "from tensorflow import keras as k\n",
        "import numpy as np\n",
        "from matplotlib import pyplot as plt"
      ],
      "execution_count": null,
      "outputs": []
    },
    {
      "cell_type": "code",
      "metadata": {
        "id": "o_p59X9w5cLV"
      },
      "source": [
        "x = np.linspace(-1e2,1e2,int(1e7))"
      ],
      "execution_count": null,
      "outputs": []
    },
    {
      "cell_type": "code",
      "metadata": {
        "id": "dBdHyGSf6Tpv"
      },
      "source": [
        "b = np.sqrt(2/np.pi)\n",
        "# x = np.array([1,2,3])"
      ],
      "execution_count": null,
      "outputs": []
    },
    {
      "cell_type": "code",
      "metadata": {
        "id": "fJsvxmvc5q6o"
      },
      "source": [
        "y_gauss = 1/(np.sqrt(2*np.pi)) * np.exp(-x**2/2)\n",
        "y_laplace = 1/(2*b) * np.exp(-np.abs(x)/ b)"
      ],
      "execution_count": null,
      "outputs": []
    },
    {
      "cell_type": "code",
      "metadata": {
        "colab": {
          "base_uri": "https://localhost:8080/",
          "height": 282
        },
        "id": "lFvdIWul7B-r",
        "outputId": "be681a26-3a18-45bd-be6b-730ef95a13d9"
      },
      "source": [
        "plt.plot(x,y_gauss)\n",
        "plt.plot(x,y_laplace)"
      ],
      "execution_count": null,
      "outputs": [
        {
          "output_type": "execute_result",
          "data": {
            "text/plain": [
              "[<matplotlib.lines.Line2D at 0x7f548970aa50>]"
            ]
          },
          "metadata": {},
          "execution_count": 93
        },
        {
          "output_type": "display_data",
          "data": {
            "image/png": "[encoded data removed]",
            "text/plain": [
              "<Figure size 432x288 with 1 Axes>"
            ]
          },
          "metadata": {
            "needs_background": "light"
          }
        }
      ]
    },
    {
      "cell_type": "code",
      "metadata": {
        "colab": {
          "base_uri": "https://localhost:8080/"
        },
        "id": "j5YmQlR26ojF",
        "outputId": "080b0d84-42a7-48f7-d31a-d87bfa911be0"
      },
      "source": [
        "KLD = k.losses.kl_divergence(y_gauss, y_laplace)\n",
        "print(KLD)"
      ],
      "execution_count": null,
      "outputs": [
        {
          "output_type": "stream",
          "name": "stdout",
          "text": [
            "tf.Tensor(2420.576415831516, shape=(), dtype=float64)\n"
          ]
        }
      ]
    },
    {
      "cell_type": "code",
      "metadata": {
        "id": "aAqYM1ca62KL"
      },
      "source": [
        "import tensorflow_probability as tfp"
      ],
      "execution_count": null,
      "outputs": []
    },
    {
      "cell_type": "code",
      "metadata": {
        "colab": {
          "base_uri": "https://localhost:8080/"
        },
        "id": "8ns7LdjT_SpH",
        "outputId": "05920a4c-1327-4ae7-8112-dc40213280ea"
      },
      "source": [
        "dist_a = tfp.distributions.laplace.Laplace(0,np.sqrt(2/np.pi))\n",
        "dist_b = tfp.distributions.normal.Normal(0,1)\n",
        "dist_a = tfp.distributions.normal.Normal(0,2)\n",
        "print(tfp.distributions.kl_divergence(distribution_a=dist_a, distribution_b=dist_b))"
      ],
      "execution_count": null,
      "outputs": [
        {
          "output_type": "stream",
          "name": "stdout",
          "text": [
            "tf.Tensor(0.8068528, shape=(), dtype=float32)\n"
          ]
        }
      ]
    },
    {
      "cell_type": "code",
      "metadata": {
        "id": "Vs02JwSX_qpL"
      },
      "source": [
        ""
      ],
      "execution_count": null,
      "outputs": []
    }
  ]
}